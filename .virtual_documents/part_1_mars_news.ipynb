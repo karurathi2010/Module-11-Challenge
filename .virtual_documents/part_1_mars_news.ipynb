


# Import Splinter and BeautifulSoup
from splinter import Browser
from bs4 import BeautifulSoup
from pprint import pprint


browser = Browser('chrome')





# Visit the Mars news site
url = 'https://static.bc-edx.com/data/web/mars_news/index.html'
browser.visit(url)





# Create a Beautiful Soup object
html=browser.html
soup=BeautifulSoup(html,'html.parser')


# Extract all the text elements
texts=soup.find_all('div',class_='list_text')






# Create an empty list to store the dictionaries
lists=[]


# Loop through the text elements

for text in texts:
    # Extract the title and preview text from the elements
    title=text.find('div',class_='content_title').text.strip()
    preview=text.find('div',class_='article_teaser_body').text.strip()
    # Store each title and preview pair in a dictionary
    text_dict={
               "title":title,
                "preview":preview
               }
    
     # Add the dictionary to the list
    lists.append(text_dict)


# Print the list to confirm success
print(str(lists).replace(', ','\n '))


browser.quit()



