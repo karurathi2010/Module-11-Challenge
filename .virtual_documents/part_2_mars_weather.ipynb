


# Import relevant libraries
from splinter import Browser
from bs4 import BeautifulSoup
import matplotlib.pyplot as plt
import pandas as pd


browser = Browser('chrome')





# Visit the website
# https://static.bc-edx.com/data/web/mars_facts/temperature.html
url = "https://static.bc-edx.com/data/web/mars_facts/temperature.html"
browser.visit(url)





# Create a Beautiful Soup Object
html=browser.html
soup=BeautifulSoup(html,'html.parser')


# Extract all rows of data
table_row=soup.find_all('tr',class_='data-row')





# Create an empty list
ids=[]
terrestrial_dates=[]
sols=[]
lss=[]
months=[]
min_temps=[]
pressures=[]

# Loop through the scraped data to create a list of rows
for row in table_row:
    id=row.find_all('td')[0].text
    ids.append(id)
    terrestrial_date=row.find_all('td')[1].text
    terrestrial_dates.append(terrestrial_date)
    sol=row.find_all('td')[2].text
    sols.append(sol)
    ls=row.find_all('td')[3].text
    lss.append(ls)
    month=row.find_all('td')[4].text
    months.append(month)
    min_temp=row.find_all('td')[5].text
    min_temps.append(min_temp)
    pressure=row.find_all('td')[6].text
    pressures.append(pressure)
    
    



# Create a Pandas DataFrame by using the list of rows and a list of the column names
mars_temperature_data=pd.DataFrame({"id":ids,
                                    "terrestrial_date":terrestrial_dates,
                                    "sol":sols,
                                    "ls":lss,
                                    "month":months,
                                    "min_temp":min_temps,
                                    "pressure":pressures
                                   })


                                                                       


# Confirm DataFrame was created successfully
mars_temperature_data.head()





# Examine data type of each column
mars_temperature_data.dtypes


# Change data types for data analysis
mars_temperature_data['terrestrial_date']=pd.to_datetime(mars_temperature_data['terrestrial_date'])
mars_temperature_data['sol']=mars_temperature_data['sol'].astype('int64')
mars_temperature_data['ls']=mars_temperature_data['ls'].astype('int64')
mars_temperature_data['month']=mars_temperature_data['month'].astype('int64')
mars_temperature_data['min_temp']=mars_temperature_data['min_temp'].astype(float)
mars_temperature_data['pressure']=mars_temperature_data['pressure'].astype(float)



# Confirm type changes were successful by examining data types again
mars_temperature_data.dtypes






# 1. How many months are there on Mars?
months=mars_temperature_data['month'].value_counts()
months.index.name = None
months.sort_index(ascending=True)


# 2. How many Martian days' worth of data are there?
mars_temperature_data['terrestrial_date'].count()


# 3. What is the average low temperature by month?
average_low_temperature=mars_temperature_data.groupby('month')['min_temp'].mean()
average_low_temperature


# Plot the average temperature by month
average_low_temperature.plot.bar()
plt.ylabel('Temperature in Celsius')
plt.show()


# Identify the coldest and hottest months in Curiosity's location
new_average_low_temperature=average_low_temperature.sort_values()
new_average_low_temperature.plot.bar()
plt.ylabel('Temperature in Celsius')
plt.show()


# 4. Average pressure by Martian month
average_pressure=mars_temperature_data.groupby('month')['pressure'].mean()
average_pressure


# Plot the average pressure by month
new_average_pressure=average_pressure.sort_values()
new_average_pressure.plot.bar()
plt.ylabel('Atmospheric Pressure')
plt.show()



# 5. How many terrestrial (earth) days are there in a Martian year?

temp=mars_temperature_data.groupby('sol')['min_temp'].mean()
plot=temp.plot()
plt.xlabel('Number of terrestrial days')
plt.ylabel('Minimum Temperature')
plt.show()















# Write the data to a CSV
mars_temperature_data.to_csv("mars_temperature_data.csv")


browser.quit()



